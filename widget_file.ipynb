{
 "cells": [
  {
   "cell_type": "code",
   "execution_count": null,
   "id": "8f7692f4-b5a3-4185-a6c6-8df81cb59882",
   "metadata": {},
   "outputs": [],
   "source": [
    "import ipywidgets as widgets\n",
    "from IPython.display import display\n",
    "\n",
    "import os\n",
    "os.environ['VOILA_SHOW_TRACEBACKS'] = 'True'\n",
    "\n",
    "crossover_mapping = {\n",
    "    1: (5, 10),\n",
    "    2: (5, 15),\n",
    "    3: (10, 20),\n",
    "    4: (10, 30),\n",
    "    5: (10, 50),\n",
    "    6: (20, 100),\n",
    "    7: (50, 200),\n",
    "    8: (100, 200),\n",
    "    9: (50, 365),\n",
    "    10: (100, 365),\n",
    "}\n",
    "\n",
    "def on_strategy_change(change):\n",
    "    if change['name'] == 'value' and change['type'] == 'change':\n",
    "        strategy_choice = change['new']\n",
    "        options = []\n",
    "        if strategy_choice == 1:\n",
    "            options = [('5 days/10 days', 1), ('5 days/15 days', 2), ('10 days/20 days', 3)]\n",
    "        elif strategy_choice == 2:\n",
    "            options = [('10 days/30 days', 4), ('10 days/50 days', 5), ('20 days/100 days', 6)]\n",
    "        elif strategy_choice == 3:\n",
    "            options = [('50 days/200 days', 7), ('100 days/200 days', 8), ('50 days/365 days', 9), ('100 days/365 days', 10)]\n",
    "        crossover_var.options = options\n",
    "\n",
    "def on_submit(button):\n",
    "    ticker = ticker_var.value\n",
    "    start_date = start_date_var.value\n",
    "    end_date = end_date_var.value\n",
    "    selected_crossover = crossover_var.value\n",
    "    short_SMA, long_SMA = crossover_mapping[selected_crossover]\n",
    "    \n",
    "    print(\"Ticker:\", ticker)\n",
    "    print(\"Start Date:\", start_date)\n",
    "    print(\"End Date:\", end_date)\n",
    "    print(\"Selected crossover:\", selected_crossover)\n",
    "    print(\"Short SMA:\", short_SMA)\n",
    "    print(\"Long SMA:\", long_SMA)\n",
    "    \n",
    "    return ticker, start_date, end_date, short_SMA, long_SMA\n",
    "\n",
    "def handle_submit(button):\n",
    "    ticker, start_date, end_date, short_SMA, long_SMA = on_submit(button)\n",
    "    # You can now use the returned values to store them or perform other tasks\n",
    "\n",
    "ticker_var = widgets.Text(description=\"Ticker:\")\n",
    "start_date_var = widgets.DatePicker(description=\"Start Date:\")\n",
    "end_date_var = widgets.DatePicker(description=\"End Date:\")\n",
    "\n",
    "strategy_var = widgets.RadioButtons(\n",
    "    options=[\n",
    "        ('Short-term trader (<6 months)', 1),\n",
    "        ('Medium-term trader (6-12 months)', 2),\n",
    "        ('Long-term trader (>12 months)', 3),\n",
    "    ],\n",
    "    description='Strategy:',\n",
    "    style={'description_width': 'initial'}\n",
    ")\n",
    "strategy_var.observe(on_strategy_change)\n",
    "\n",
    "crossover_var = widgets.Dropdown(description='Crossover:', options=[])\n",
    "\n",
    "submit_button = widgets.Button(description=\"Submit\")\n",
    "submit_button.on_click(handle_submit)\n",
    "\n",
    "widget_box = widgets.VBox([ticker_var, start_date_var, end_date_var, strategy_var, crossover_var, submit_button])\n",
    "\n",
    "def display_widget():\n",
    "    display(widget_box)\n",
    "    "
   ]
  },
  {
   "cell_type": "code",
   "execution_count": null,
   "id": "c0b9cd75-18b4-456d-a3ff-0df835659fdb",
   "metadata": {},
   "outputs": [],
   "source": [
    "!jupyter serverextension enable voila --sys-prefix\n"
   ]
  },
  {
   "cell_type": "code",
   "execution_count": null,
   "id": "2cc449ee-9693-4b00-9537-bc86b67a7587",
   "metadata": {},
   "outputs": [],
   "source": [
    "!voila source3.ipynb\n"
   ]
  },
  {
   "cell_type": "code",
   "execution_count": null,
   "id": "c4974c99-fd99-4fdb-8869-9c3488f1e06c",
   "metadata": {},
   "outputs": [],
   "source": []
  }
 ],
 "metadata": {
  "kernelspec": {
   "display_name": "Python 3 (ipykernel)",
   "language": "python",
   "name": "python3"
  },
  "language_info": {
   "codemirror_mode": {
    "name": "ipython",
    "version": 3
   },
   "file_extension": ".py",
   "mimetype": "text/x-python",
   "name": "python",
   "nbconvert_exporter": "python",
   "pygments_lexer": "ipython3",
   "version": "3.9.16"
  }
 },
 "nbformat": 4,
 "nbformat_minor": 5
}
