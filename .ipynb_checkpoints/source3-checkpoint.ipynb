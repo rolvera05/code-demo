{
 "cells": [
  {
   "cell_type": "code",
   "execution_count": null,
   "id": "ec36b41a-b825-4296-91b8-f3dc0a1dd38f",
   "metadata": {},
   "outputs": [],
   "source": [
    "import pandas as pd\n",
    "import numpy as np\n",
    "import plotly.graph_objs as go\n",
    "import yfinance as yf"
   ]
  },
  {
   "cell_type": "markdown",
   "id": "ad5925e8-7210-4b60-9e1f-90fead4e6d9f",
   "metadata": {},
   "source": [
    "# Data Entry\n",
    "### (To-Do: Create CLI after code backtested and finalized)"
   ]
  },
  {
   "cell_type": "code",
   "execution_count": null,
   "id": "c192f67d-9a81-43bc-8a2a-4a237f684ed9",
   "metadata": {},
   "outputs": [],
   "source": [
    "# Import user inputs\n",
    "%store -r ticker\n",
    "%store -r start_date\n",
    "%store -r end_date\n",
    "%store -r short_window\n",
    "%store -r long_window\n",
    "\n",
    "data = yf.download(ticker, start=start_date, end=end_date)"
   ]
  },
  {
   "cell_type": "markdown",
   "id": "b183a32e-2910-494f-a89c-ee1f166e492e",
   "metadata": {},
   "source": [
    "# Step 1: Define the strategy"
   ]
  },
  {
   "cell_type": "code",
   "execution_count": null,
   "id": "fdf61559-a5d9-45b9-b397-a699495b4850",
   "metadata": {},
   "outputs": [],
   "source": [
    "# Define SMA\n",
    "\n",
    "def SMA(data, window):\n",
    "    return data.rolling(window=window).mean()\n",
    "\n",
    "def SMA_crossover_strategy(data, short_window, long_window):\n",
    "    signals = pd.DataFrame(index=data.index)\n",
    "    signals['price'] = data['Close']\n",
    "    signals['short_SMA'] = SMA(data['Close'], short_window)\n",
    "    signals['long_SMA'] = SMA(data['Close'], long_window)\n",
    "    signals['signal'] = 0.0\n",
    "\n",
    "    signals['signal'][short_window:] = np.where(signals['short_SMA'][short_window:] > signals['long_SMA'][short_window:], 1.0, 0.0)\n",
    "\n",
    "    signals['positions'] = signals['signal'].diff()\n",
    "\n",
    "    return signals"
   ]
  },
  {
   "cell_type": "markdown",
   "id": "002dec55-2887-4da7-84fd-96139df39687",
   "metadata": {},
   "source": [
    "# Step 2: Create Strategy Dataframe"
   ]
  },
  {
   "cell_type": "code",
   "execution_count": 1,
   "id": "eb46033e-9bd3-434a-ad29-458de1c7bb59",
   "metadata": {},
   "outputs": [
    {
     "ename": "NameError",
     "evalue": "name 'SMA_crossover_strategy' is not defined",
     "output_type": "error",
     "traceback": [
      "\u001b[0;31m---------------------------------------------------------------------------\u001b[0m",
      "\u001b[0;31mNameError\u001b[0m                                 Traceback (most recent call last)",
      "Cell \u001b[0;32mIn[1], line 2\u001b[0m\n\u001b[1;32m      1\u001b[0m \u001b[38;5;66;03m# Create dataframe of strategy\u001b[39;00m\n\u001b[0;32m----> 2\u001b[0m signals \u001b[38;5;241m=\u001b[39m \u001b[43mSMA_crossover_strategy\u001b[49m(data, short_window, long_window)\n\u001b[1;32m      3\u001b[0m display(signals\u001b[38;5;241m.\u001b[39mhead(\u001b[38;5;241m150\u001b[39m))\n",
      "\u001b[0;31mNameError\u001b[0m: name 'SMA_crossover_strategy' is not defined"
     ]
    }
   ],
   "source": [
    "# Create dataframe of strategy\n",
    "signals = SMA_crossover_strategy(data, short_window, long_window)\n",
    "display(signals.head(150))"
   ]
  },
  {
   "cell_type": "code",
   "execution_count": null,
   "id": "81f9d573-bbc9-44fd-81ba-955b48b348d0",
   "metadata": {},
   "outputs": [],
   "source": [
    "# Filter the DataFrame to show only the rows with buy or sell signals\n",
    "signal_data = signals.loc[signals['positions'].abs() == 1]\n",
    "\n",
    "# Display the resulting DataFrame\n",
    "display(signal_data)"
   ]
  },
  {
   "cell_type": "markdown",
   "id": "7da9dc9b-a24c-41ab-9485-376caf2ab396",
   "metadata": {},
   "source": [
    "# Step 3: Plot SMA Crossover for Selected Ticker"
   ]
  },
  {
   "cell_type": "code",
   "execution_count": null,
   "id": "ce078e63-b471-4486-a632-cf540215e4f0",
   "metadata": {},
   "outputs": [],
   "source": [
    "# Define the stock price trace\n",
    "price = go.Scatter(\n",
    "    x=data.index,\n",
    "    y=data['Close'],\n",
    "    name='Closing Price (USD)',\n",
    ")\n",
    "\n",
    "# Define the short SMA trace\n",
    "short_sma = go.Scatter(\n",
    "    x=signals.index,\n",
    "    y=signals['short_SMA'],\n",
    "    name='Short SMA',\n",
    ")\n",
    "\n",
    "# Define the long SMA trace\n",
    "long_sma = go.Scatter(\n",
    "    x=signals.index,\n",
    "    y=signals['long_SMA'],\n",
    "    name='Long SMA',\n",
    ")\n",
    "\n",
    "# Define the buy signals trace\n",
    "buy_signals = go.Scatter(\n",
    "    x=signals.loc[signals.positions == 1.0].index,\n",
    "    y=signals.short_SMA[signals.positions == 1.0],\n",
    "    name='Buy',\n",
    "    mode='markers',\n",
    "    marker=dict(size=10, symbol='triangle-up', color='green'),\n",
    ")\n",
    "\n",
    "# Define the sell signals trace\n",
    "sell_signals = go.Scatter(\n",
    "    x=signals.loc[signals.positions == -1.0].index,\n",
    "    y=signals.short_SMA[signals.positions == -1.0],\n",
    "    name='Sell',\n",
    "    mode='markers',\n",
    "    marker=dict(size=10, symbol='triangle-down', color='red'),\n",
    ")\n",
    "\n",
    "# Define the layout\n",
    "layout = go.Layout(\n",
    "    title=dict(text=f'{ticker} Stock Price with SMA Crossover Signals'),\n",
    "    xaxis=dict(title='Date'),\n",
    "    yaxis=dict(title='Closing Price (USD)'),\n",
    "    template='plotly_dark'\n",
    ")\n",
    "\n",
    "# Create the figure\n",
    "fig = go.Figure(data=[price, short_sma, long_sma, buy_signals, sell_signals], layout=layout)\n",
    "\n",
    "# Display the figure\n",
    "fig.show()"
   ]
  },
  {
   "cell_type": "markdown",
   "id": "1c5721a2-cbb5-4952-9766-4c867220897b",
   "metadata": {},
   "source": [
    "# Step 4: Measure Cumulative Returns\n"
   ]
  },
  {
   "cell_type": "code",
   "execution_count": 2,
   "id": "f9080506-b979-41e3-9eb5-95cc8a09a83e",
   "metadata": {},
   "outputs": [
    {
     "ename": "NameError",
     "evalue": "name 'signals' is not defined",
     "output_type": "error",
     "traceback": [
      "\u001b[0;31m---------------------------------------------------------------------------\u001b[0m",
      "\u001b[0;31mNameError\u001b[0m                                 Traceback (most recent call last)",
      "Cell \u001b[0;32mIn[2], line 2\u001b[0m\n\u001b[1;32m      1\u001b[0m \u001b[38;5;66;03m# Calculate daily returns\u001b[39;00m\n\u001b[0;32m----> 2\u001b[0m signals[\u001b[38;5;124m'\u001b[39m\u001b[38;5;124mdaily_returns\u001b[39m\u001b[38;5;124m'\u001b[39m] \u001b[38;5;241m=\u001b[39m \u001b[43msignals\u001b[49m[\u001b[38;5;124m'\u001b[39m\u001b[38;5;124mprice\u001b[39m\u001b[38;5;124m'\u001b[39m]\u001b[38;5;241m.\u001b[39mpct_change()\n\u001b[1;32m      4\u001b[0m \u001b[38;5;66;03m# Calculate daily returns when following the crossover strategy\u001b[39;00m\n\u001b[1;32m      5\u001b[0m signals[\u001b[38;5;124m'\u001b[39m\u001b[38;5;124mstrategy_returns\u001b[39m\u001b[38;5;124m'\u001b[39m] \u001b[38;5;241m=\u001b[39m signals[\u001b[38;5;124m'\u001b[39m\u001b[38;5;124mdaily_returns\u001b[39m\u001b[38;5;124m'\u001b[39m] \u001b[38;5;241m*\u001b[39m signals[\u001b[38;5;124m'\u001b[39m\u001b[38;5;124msignal\u001b[39m\u001b[38;5;124m'\u001b[39m]\u001b[38;5;241m.\u001b[39mshift(\u001b[38;5;241m1\u001b[39m)\n",
      "\u001b[0;31mNameError\u001b[0m: name 'signals' is not defined"
     ]
    }
   ],
   "source": [
    "# Calculate daily returns\n",
    "signals['daily_returns'] = signals['price'].pct_change()\n",
    "\n",
    "# Calculate daily returns when following the crossover strategy\n",
    "signals['strategy_returns'] = signals['daily_returns'] * signals['signal'].shift(1)\n",
    "\n",
    "# Filter out the periods when not holding the stock (strategy_returns == 0)\n",
    "holding_returns = signals[signals['strategy_returns'] != 0]['strategy_returns']\n",
    "cumulative_strategy_returns = (1 + holding_returns).cumprod()\n",
    "\n",
    "display(cumulative_strategy_returns)"
   ]
  },
  {
   "cell_type": "code",
   "execution_count": null,
   "id": "88875d15-f877-4649-8835-09e9c8099415",
   "metadata": {},
   "outputs": [],
   "source": [
    "# Calculate cumulative returns for buy-and-hold strategy over time\n",
    "buy_and_hold_cumulative_returns = (1 + signals['daily_returns']).cumprod()\n",
    "\n",
    "# Calculate the total return \n",
    "def calculate_buy_and_hold_returns(df):\n",
    "    return df['Close'].iloc[-1] / df['Close'].iloc[0] - 1\n",
    "\n",
    "display(buy_and_hold_cumulative_returns)"
   ]
  },
  {
   "cell_type": "markdown",
   "id": "abbe0025-c54f-4eda-a03e-edeb9c2d36ce",
   "metadata": {},
   "source": [
    "# Step 5: Plot Cumulative Returns\n",
    "### SMA Crossover"
   ]
  },
  {
   "cell_type": "code",
   "execution_count": null,
   "id": "9edf6457-c59e-4da1-8382-3428b1a93f78",
   "metadata": {},
   "outputs": [],
   "source": [
    "# Create a trace for the cumulative returns\n",
    "cumulative_returns_trace = go.Scatter(\n",
    "    x=cumulative_strategy_returns.index,\n",
    "    y=cumulative_strategy_returns.values,\n",
    "    mode='lines',\n",
    "    name='Cumulative Returns'\n",
    ")\n",
    "\n",
    "# Create a trace for the holding periods\n",
    "holding_periods_trace = go.Scatter(\n",
    "    x=holding_returns.index,\n",
    "    y=[1] * len(holding_returns),\n",
    "    mode='markers',\n",
    "    marker=dict(size=3, color='red'),\n",
    "    name='Holding Periods'\n",
    ")\n",
    "\n",
    "# Create a layout for the chart\n",
    "layout = go.Layout(\n",
    "    title=dict(text=f'{ticker} SMA Crossover Strategy Cumulative Returns'),\n",
    "    xaxis=dict(title='Date'),\n",
    "    yaxis=dict(title='Cumulative Returns'),\n",
    "    template='plotly_dark'\n",
    ")\n",
    "\n",
    "# Create the figure\n",
    "fig = go.Figure(data=[cumulative_returns_trace, holding_periods_trace], layout=layout)\n",
    "\n",
    "# Display the figure\n",
    "fig.show()"
   ]
  },
  {
   "cell_type": "markdown",
   "id": "cf9ba284-7fd5-4bbc-8b57-66b9a0d202d9",
   "metadata": {},
   "source": [
    "# Buy and Hold"
   ]
  },
  {
   "cell_type": "code",
   "execution_count": null,
   "id": "075499c7-1d3e-4126-be7e-f815b187dd0b",
   "metadata": {},
   "outputs": [],
   "source": [
    "# Define the buy-and-hold strategy trace\n",
    "buy_and_hold_cumulative_returns_trace = go.Scatter(\n",
    "    x=buy_and_hold_cumulative_returns.index,\n",
    "    y=buy_and_hold_cumulative_returns,\n",
    "    mode='lines',\n",
    "    name='Buy and Hold Strategy'\n",
    ")\n",
    "\n",
    "# Define the layout\n",
    "layout = go.Layout(\n",
    "    title=dict(text=f'{ticker} Buy and Hold Strategy Cumulative Returns'),\n",
    "    xaxis=dict(title='Date'),\n",
    "    yaxis=dict(title='Cumulative Returns'),\n",
    "    template='plotly_dark'\n",
    ")\n",
    "\n",
    "# Create the figure\n",
    "fig = go.Figure(data=[buy_and_hold_cumulative_returns_trace], layout=layout)\n",
    "\n",
    "# Display the figure\n",
    "fig.show()"
   ]
  },
  {
   "cell_type": "markdown",
   "id": "bc10cd7d-a3fb-4c68-9afe-c3dfa194453b",
   "metadata": {},
   "source": [
    "# Step 6: Compare Returns\n",
    "### Plot Comparison"
   ]
  },
  {
   "cell_type": "code",
   "execution_count": null,
   "id": "75d5ef1c-8995-4066-b4d0-a2e15b6e40d4",
   "metadata": {},
   "outputs": [],
   "source": [
    "# Define the SMA Crossover strategy trace\n",
    "sma_crossover_strategy = go.Scatter(\n",
    "    x=holding_returns.index,\n",
    "    y=cumulative_strategy_returns,\n",
    "    mode='lines',\n",
    "    name='SMA Crossover Strategy'\n",
    ")\n",
    "\n",
    "# Define the buy-and-hold strategy trace\n",
    "buy_and_hold_strategy = go.Scatter(\n",
    "    x=buy_and_hold_cumulative_returns.index,\n",
    "    y=buy_and_hold_cumulative_returns,\n",
    "    mode='lines',\n",
    "    name='Buy and Hold Strategy'\n",
    ")\n",
    "\n",
    "# Define holding periods trace\n",
    "holding_periods_trace = go.Scatter(\n",
    "    x=holding_returns.index,\n",
    "    y=[1] * len(holding_returns),\n",
    "    mode='markers',\n",
    "    marker=dict(size=3, color='red'),\n",
    "    name='Holding Periods (Crossover)'\n",
    ")\n",
    "\n",
    "# Define the layout\n",
    "layout = go.Layout(\n",
    "    title=dict(text=f'Comparing SMA Crossover Strategy with Buy and Hold Strategy for {ticker}'),\n",
    "    xaxis=dict(title='Date'),\n",
    "    yaxis=dict(title='Cumulative Returns'),\n",
    "    template='plotly_dark'\n",
    ")\n",
    "\n",
    "# Create the figure\n",
    "fig = go.Figure(data=[sma_crossover_strategy, buy_and_hold_strategy, holding_periods_trace], layout=layout)\n",
    "\n",
    "# Display the figure\n",
    "fig.show()"
   ]
  },
  {
   "cell_type": "markdown",
   "id": "c39df0f9-3e25-4fc8-b193-1d6bbb0b5d6a",
   "metadata": {},
   "source": [
    "# Step 7: Compare Risk\n",
    "### Crossover Strategy Volatility"
   ]
  },
  {
   "cell_type": "code",
   "execution_count": null,
   "id": "be7b554c-2aab-4e33-ae7e-02c4a864dd0f",
   "metadata": {},
   "outputs": [],
   "source": [
    "# Calculate the annualized volatility\n",
    "annualized_volatility_SMA = holding_returns.std() * np.sqrt(252)\n",
    "\n",
    "# Print the standard deviation\n",
    "print(\"Standard Deviation:\", holding_returns.std())\n",
    "\n",
    "# Print the annualized volatility\n",
    "print(\"Annualized Volatility:\", annualized_volatility_SMA)"
   ]
  },
  {
   "cell_type": "markdown",
   "id": "b75b1665-69fe-4e73-918d-d55c783abf02",
   "metadata": {},
   "source": [
    "### Buy and Hold Strategy Volatility"
   ]
  },
  {
   "cell_type": "code",
   "execution_count": null,
   "id": "0409b00a-4f48-42dc-b3fa-f2efa824d2c9",
   "metadata": {},
   "outputs": [],
   "source": [
    "# Calculate the annualized volatility\n",
    "annualized_volatility = signals['daily_returns'].std() * np.sqrt(252)\n",
    "\n",
    "# Print the standard deviation\n",
    "print(\"Standard Deviation:\", signals['daily_returns'].std())\n",
    "\n",
    "# Print the annualized volatility\n",
    "print(\"Annualized Volatility:\", annualized_volatility)"
   ]
  },
  {
   "cell_type": "markdown",
   "id": "7e451a17-2103-499e-8ace-c3662c9f608f",
   "metadata": {},
   "source": [
    "### Sharpe Ratio"
   ]
  },
  {
   "cell_type": "code",
   "execution_count": null,
   "id": "a4e9db84-21d3-42b4-908f-38733252c14a",
   "metadata": {},
   "outputs": [],
   "source": [
    "# Calculate the Sharpe Ratio\n",
    "\n",
    "# Calculate daily returns when holding the stock following the crossover strategy\n",
    "signals['strategy_returns'] = signals['daily_returns'] * signals['signal'].shift(1)\n",
    "\n",
    "# Calculate the average daily returns\n",
    "average_daily_returns = signals['daily_returns'].mean()\n",
    "average_strategy_returns = signals['strategy_returns'].mean()\n",
    "\n",
    "# Calculate the standard deviation of daily returns (volatility)\n",
    "volatility_daily_returns = signals['daily_returns'].std()\n",
    "volatility_strategy_returns = signals['strategy_returns'].std()\n",
    "\n",
    "# Set the risk-free rate (e.g., the 3-month Treasury bill rate)\n",
    "risk_free_rate = 0.02 / 252  # Assume an annual risk-free rate of 2% and divide by 252 trading days\n",
    "\n",
    "# Calculate the Sharpe ratios\n",
    "sharpe_ratio_buy_and_hold = (average_daily_returns - risk_free_rate) / volatility_daily_returns\n",
    "sharpe_ratio_strategy = (average_strategy_returns - risk_free_rate) / volatility_strategy_returns\n",
    "\n",
    "# Print the Sharpe ratios\n",
    "print(\"Sharpe Ratio (Buy and Hold Strategy):\", sharpe_ratio_buy_and_hold)\n",
    "print(\"Sharpe Ratio (SMA Crossover Strategy):\", sharpe_ratio_strategy)"
   ]
  },
  {
   "cell_type": "markdown",
   "id": "03b03541-bcaf-43f3-8bf6-08695d613c25",
   "metadata": {},
   "source": [
    "### Sortino Ratio"
   ]
  },
  {
   "cell_type": "code",
   "execution_count": null,
   "id": "a90f47e4-9294-48d3-a8a3-3b2ebafc6930",
   "metadata": {},
   "outputs": [],
   "source": [
    "# Calculate the Sortino Ratio\n",
    "\n",
    "# Calculate the downside deviations (considering only negative returns)\n",
    "downside_deviation_daily_returns = signals[signals['daily_returns'] < 0]['daily_returns'].std()\n",
    "downside_deviation_strategy_returns = signals[signals['strategy_returns'] < 0]['strategy_returns'].std()\n",
    "\n",
    "# Set the risk-free rate (e.g., the 3-month Treasury bill rate)\n",
    "risk_free_rate = 0.02 / 252  # Assume an annual risk-free rate of 2% and divide by 252 trading days\n",
    "\n",
    "# Calculate the Sortino ratios\n",
    "sortino_ratio_buy_and_hold = (average_daily_returns - risk_free_rate) / downside_deviation_daily_returns\n",
    "sortino_ratio_strategy = (average_strategy_returns - risk_free_rate) / downside_deviation_strategy_returns\n",
    "\n",
    "# Print the Sortino ratios\n",
    "print(\"Sortino Ratio (Buy and Hold Strategy):\", sortino_ratio_buy_and_hold)\n",
    "print(\"Sortino Ratio (SMA Crossover Strategy):\", sortino_ratio_strategy)"
   ]
  },
  {
   "cell_type": "markdown",
   "id": "7f2e351b-d5c8-4565-9f30-4b6cdf4a65c2",
   "metadata": {},
   "source": [
    "# Step 8: Create Plot for Comparison of Volatilities/Ratios"
   ]
  },
  {
   "cell_type": "code",
   "execution_count": null,
   "id": "f33ac835-0c28-441f-a19e-ada827404036",
   "metadata": {},
   "outputs": [],
   "source": [
    "# Create a bar chart of annualized volatility, standard deviation, Sharpe ratio, and Sortino ratio\n",
    "fig = go.Figure()\n",
    "fig.add_trace(go.Bar(x=[\"SMA Crossover\", \"Buy and Hold\"],\n",
    "                     y=[annualized_volatility_SMA, annualized_volatility],\n",
    "                     name='Annualized Volatility'))\n",
    "fig.add_trace(go.Bar(x=[\"SMA Crossover\", \"Buy and Hold\"],\n",
    "                     y=[holding_returns.std(), signals['daily_returns'].std()],\n",
    "                     name='Standard Deviation'))\n",
    "fig.add_trace(go.Bar(x=[\"SMA Crossover\", \"Buy and Hold\"],\n",
    "                     y=[sharpe_ratio_strategy, sharpe_ratio_buy_and_hold],\n",
    "                     name='Sharpe Ratio'))\n",
    "fig.add_trace(go.Bar(x=[\"SMA Crossover\", \"Buy and Hold\"],\n",
    "                     y=[sortino_ratio_strategy, sortino_ratio_buy_and_hold],\n",
    "                     name='Sortino Ratio'))\n",
    "\n",
    "fig.update_layout(title=f'{ticker} Strategy Comparison', barmode='group',\n",
    "                  yaxis=dict(title='Volatility'), template='plotly_dark')\n",
    "\n",
    "fig.show()"
   ]
  }
 ],
 "metadata": {
  "kernelspec": {
   "display_name": "Python 3 (ipykernel)",
   "language": "python",
   "name": "python3"
  },
  "language_info": {
   "codemirror_mode": {
    "name": "ipython",
    "version": 3
   },
   "file_extension": ".py",
   "mimetype": "text/x-python",
   "name": "python",
   "nbconvert_exporter": "python",
   "pygments_lexer": "ipython3",
   "version": "3.9.16"
  }
 },
 "nbformat": 4,
 "nbformat_minor": 5
}
