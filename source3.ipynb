{
 "cells": [
  {
   "cell_type": "code",
   "execution_count": 1,
   "id": "ec36b41a-b825-4296-91b8-f3dc0a1dd38f",
   "metadata": {},
   "outputs": [],
   "source": [
    "import pandas as pd\n",
    "import numpy as np\n",
    "import plotly.graph_objs as go\n",
    "import yfinance as yf"
   ]
  },
  {
   "cell_type": "code",
   "execution_count": 6,
   "id": "5129706b-e01a-4ec8-90cb-69fefb29f36d",
   "metadata": {},
   "outputs": [
    {
     "ename": "ModuleNotFoundError",
     "evalue": "No module named 'widget_file'",
     "output_type": "error",
     "traceback": [
      "\u001b[0;31m---------------------------------------------------------------------------\u001b[0m",
      "\u001b[0;31mModuleNotFoundError\u001b[0m                       Traceback (most recent call last)",
      "Cell \u001b[0;32mIn[6], line 1\u001b[0m\n\u001b[0;32m----> 1\u001b[0m \u001b[38;5;28;01mfrom\u001b[39;00m \u001b[38;5;21;01mwidget_file\u001b[39;00m \u001b[38;5;28;01mimport\u001b[39;00m display_widget\n\u001b[1;32m      2\u001b[0m \u001b[38;5;28;01mimport\u001b[39;00m \u001b[38;5;21;01mvoila\u001b[39;00m\n\u001b[1;32m      4\u001b[0m \u001b[38;5;66;03m# Display the widget\u001b[39;00m\n",
      "\u001b[0;31mModuleNotFoundError\u001b[0m: No module named 'widget_file'"
     ]
    }
   ],
   "source": [
    "from widget_file import display_widget\n",
    "import voila\n",
    "\n",
    "# Display the widget\n",
    "display_widget()"
   ]
  },
  {
   "cell_type": "code",
   "execution_count": 8,
   "id": "b88c6693-31b4-4b2e-b844-f031fed7ef3e",
   "metadata": {},
   "outputs": [],
   "source": [
    "import os\n",
    "os.environ['VOILA_SHOW_TRACEBACKS'] = 'True'\n"
   ]
  },
  {
   "cell_type": "markdown",
   "id": "ad5925e8-7210-4b60-9e1f-90fead4e6d9f",
   "metadata": {},
   "source": [
    "# Data Entry\n",
    "### (To-Do: Create CLI after code backtested and finalized)"
   ]
  },
  {
   "cell_type": "code",
   "execution_count": 7,
   "id": "c192f67d-9a81-43bc-8a2a-4a237f684ed9",
   "metadata": {},
   "outputs": [
    {
     "name": "stdout",
     "output_type": "stream",
     "text": [
      "[*********************100%***********************]  0 of 0 completed\n"
     ]
    },
    {
     "ename": "ValueError",
     "evalue": "No objects to concatenate",
     "output_type": "error",
     "traceback": [
      "\u001b[0;31m---------------------------------------------------------------------------\u001b[0m",
      "\u001b[0;31mValueError\u001b[0m                                Traceback (most recent call last)",
      "File \u001b[0;32m/opt/homebrew/anaconda3/envs/dev/lib/python3.9/site-packages/yfinance/multi.py:166\u001b[0m, in \u001b[0;36mdownload\u001b[0;34m(tickers, start, end, actions, threads, ignore_tz, group_by, auto_adjust, back_adjust, repair, keepna, progress, period, show_errors, interval, prepost, proxy, rounding, timeout)\u001b[0m\n\u001b[1;32m    165\u001b[0m \u001b[38;5;28;01mtry\u001b[39;00m:\n\u001b[0;32m--> 166\u001b[0m     data \u001b[38;5;241m=\u001b[39m \u001b[43m_pd\u001b[49m\u001b[38;5;241;43m.\u001b[39;49m\u001b[43mconcat\u001b[49m\u001b[43m(\u001b[49m\u001b[43mshared\u001b[49m\u001b[38;5;241;43m.\u001b[39;49m\u001b[43m_DFS\u001b[49m\u001b[38;5;241;43m.\u001b[39;49m\u001b[43mvalues\u001b[49m\u001b[43m(\u001b[49m\u001b[43m)\u001b[49m\u001b[43m,\u001b[49m\u001b[43m \u001b[49m\u001b[43maxis\u001b[49m\u001b[38;5;241;43m=\u001b[39;49m\u001b[38;5;241;43m1\u001b[39;49m\u001b[43m,\u001b[49m\u001b[43m \u001b[49m\u001b[43msort\u001b[49m\u001b[38;5;241;43m=\u001b[39;49m\u001b[38;5;28;43;01mTrue\u001b[39;49;00m\u001b[43m,\u001b[49m\n\u001b[1;32m    167\u001b[0m \u001b[43m                      \u001b[49m\u001b[43mkeys\u001b[49m\u001b[38;5;241;43m=\u001b[39;49m\u001b[43mshared\u001b[49m\u001b[38;5;241;43m.\u001b[39;49m\u001b[43m_DFS\u001b[49m\u001b[38;5;241;43m.\u001b[39;49m\u001b[43mkeys\u001b[49m\u001b[43m(\u001b[49m\u001b[43m)\u001b[49m\u001b[43m)\u001b[49m\n\u001b[1;32m    168\u001b[0m \u001b[38;5;28;01mexcept\u001b[39;00m \u001b[38;5;167;01mException\u001b[39;00m:\n",
      "File \u001b[0;32m/opt/homebrew/anaconda3/envs/dev/lib/python3.9/site-packages/pandas/util/_decorators.py:331\u001b[0m, in \u001b[0;36mdeprecate_nonkeyword_arguments.<locals>.decorate.<locals>.wrapper\u001b[0;34m(*args, **kwargs)\u001b[0m\n\u001b[1;32m    326\u001b[0m     warnings\u001b[38;5;241m.\u001b[39mwarn(\n\u001b[1;32m    327\u001b[0m         msg\u001b[38;5;241m.\u001b[39mformat(arguments\u001b[38;5;241m=\u001b[39m_format_argument_list(allow_args)),\n\u001b[1;32m    328\u001b[0m         \u001b[38;5;167;01mFutureWarning\u001b[39;00m,\n\u001b[1;32m    329\u001b[0m         stacklevel\u001b[38;5;241m=\u001b[39mfind_stack_level(),\n\u001b[1;32m    330\u001b[0m     )\n\u001b[0;32m--> 331\u001b[0m \u001b[38;5;28;01mreturn\u001b[39;00m \u001b[43mfunc\u001b[49m\u001b[43m(\u001b[49m\u001b[38;5;241;43m*\u001b[39;49m\u001b[43margs\u001b[49m\u001b[43m,\u001b[49m\u001b[43m \u001b[49m\u001b[38;5;241;43m*\u001b[39;49m\u001b[38;5;241;43m*\u001b[39;49m\u001b[43mkwargs\u001b[49m\u001b[43m)\u001b[49m\n",
      "File \u001b[0;32m/opt/homebrew/anaconda3/envs/dev/lib/python3.9/site-packages/pandas/core/reshape/concat.py:368\u001b[0m, in \u001b[0;36mconcat\u001b[0;34m(objs, axis, join, ignore_index, keys, levels, names, verify_integrity, sort, copy)\u001b[0m\n\u001b[1;32m    159\u001b[0m \u001b[38;5;250m\u001b[39m\u001b[38;5;124;03m\"\"\"\u001b[39;00m\n\u001b[1;32m    160\u001b[0m \u001b[38;5;124;03mConcatenate pandas objects along a particular axis.\u001b[39;00m\n\u001b[1;32m    161\u001b[0m \n\u001b[0;32m   (...)\u001b[0m\n\u001b[1;32m    366\u001b[0m \u001b[38;5;124;03m1   3   4\u001b[39;00m\n\u001b[1;32m    367\u001b[0m \u001b[38;5;124;03m\"\"\"\u001b[39;00m\n\u001b[0;32m--> 368\u001b[0m op \u001b[38;5;241m=\u001b[39m \u001b[43m_Concatenator\u001b[49m\u001b[43m(\u001b[49m\n\u001b[1;32m    369\u001b[0m \u001b[43m    \u001b[49m\u001b[43mobjs\u001b[49m\u001b[43m,\u001b[49m\n\u001b[1;32m    370\u001b[0m \u001b[43m    \u001b[49m\u001b[43maxis\u001b[49m\u001b[38;5;241;43m=\u001b[39;49m\u001b[43maxis\u001b[49m\u001b[43m,\u001b[49m\n\u001b[1;32m    371\u001b[0m \u001b[43m    \u001b[49m\u001b[43mignore_index\u001b[49m\u001b[38;5;241;43m=\u001b[39;49m\u001b[43mignore_index\u001b[49m\u001b[43m,\u001b[49m\n\u001b[1;32m    372\u001b[0m \u001b[43m    \u001b[49m\u001b[43mjoin\u001b[49m\u001b[38;5;241;43m=\u001b[39;49m\u001b[43mjoin\u001b[49m\u001b[43m,\u001b[49m\n\u001b[1;32m    373\u001b[0m \u001b[43m    \u001b[49m\u001b[43mkeys\u001b[49m\u001b[38;5;241;43m=\u001b[39;49m\u001b[43mkeys\u001b[49m\u001b[43m,\u001b[49m\n\u001b[1;32m    374\u001b[0m \u001b[43m    \u001b[49m\u001b[43mlevels\u001b[49m\u001b[38;5;241;43m=\u001b[39;49m\u001b[43mlevels\u001b[49m\u001b[43m,\u001b[49m\n\u001b[1;32m    375\u001b[0m \u001b[43m    \u001b[49m\u001b[43mnames\u001b[49m\u001b[38;5;241;43m=\u001b[39;49m\u001b[43mnames\u001b[49m\u001b[43m,\u001b[49m\n\u001b[1;32m    376\u001b[0m \u001b[43m    \u001b[49m\u001b[43mverify_integrity\u001b[49m\u001b[38;5;241;43m=\u001b[39;49m\u001b[43mverify_integrity\u001b[49m\u001b[43m,\u001b[49m\n\u001b[1;32m    377\u001b[0m \u001b[43m    \u001b[49m\u001b[43mcopy\u001b[49m\u001b[38;5;241;43m=\u001b[39;49m\u001b[43mcopy\u001b[49m\u001b[43m,\u001b[49m\n\u001b[1;32m    378\u001b[0m \u001b[43m    \u001b[49m\u001b[43msort\u001b[49m\u001b[38;5;241;43m=\u001b[39;49m\u001b[43msort\u001b[49m\u001b[43m,\u001b[49m\n\u001b[1;32m    379\u001b[0m \u001b[43m\u001b[49m\u001b[43m)\u001b[49m\n\u001b[1;32m    381\u001b[0m \u001b[38;5;28;01mreturn\u001b[39;00m op\u001b[38;5;241m.\u001b[39mget_result()\n",
      "File \u001b[0;32m/opt/homebrew/anaconda3/envs/dev/lib/python3.9/site-packages/pandas/core/reshape/concat.py:425\u001b[0m, in \u001b[0;36m_Concatenator.__init__\u001b[0;34m(self, objs, axis, join, keys, levels, names, ignore_index, verify_integrity, copy, sort)\u001b[0m\n\u001b[1;32m    424\u001b[0m \u001b[38;5;28;01mif\u001b[39;00m \u001b[38;5;28mlen\u001b[39m(objs) \u001b[38;5;241m==\u001b[39m \u001b[38;5;241m0\u001b[39m:\n\u001b[0;32m--> 425\u001b[0m     \u001b[38;5;28;01mraise\u001b[39;00m \u001b[38;5;167;01mValueError\u001b[39;00m(\u001b[38;5;124m\"\u001b[39m\u001b[38;5;124mNo objects to concatenate\u001b[39m\u001b[38;5;124m\"\u001b[39m)\n\u001b[1;32m    427\u001b[0m \u001b[38;5;28;01mif\u001b[39;00m keys \u001b[38;5;129;01mis\u001b[39;00m \u001b[38;5;28;01mNone\u001b[39;00m:\n",
      "\u001b[0;31mValueError\u001b[0m: No objects to concatenate",
      "\nDuring handling of the above exception, another exception occurred:\n",
      "\u001b[0;31mValueError\u001b[0m                                Traceback (most recent call last)",
      "Cell \u001b[0;32mIn[7], line 8\u001b[0m\n\u001b[1;32m      5\u001b[0m get_ipython()\u001b[38;5;241m.\u001b[39mrun_line_magic(\u001b[38;5;124m'\u001b[39m\u001b[38;5;124mstore\u001b[39m\u001b[38;5;124m'\u001b[39m, \u001b[38;5;124m'\u001b[39m\u001b[38;5;124m-r short_window\u001b[39m\u001b[38;5;124m'\u001b[39m)\n\u001b[1;32m      6\u001b[0m get_ipython()\u001b[38;5;241m.\u001b[39mrun_line_magic(\u001b[38;5;124m'\u001b[39m\u001b[38;5;124mstore\u001b[39m\u001b[38;5;124m'\u001b[39m, \u001b[38;5;124m'\u001b[39m\u001b[38;5;124m-r long_window\u001b[39m\u001b[38;5;124m'\u001b[39m)\n\u001b[0;32m----> 8\u001b[0m data \u001b[38;5;241m=\u001b[39m \u001b[43myf\u001b[49m\u001b[38;5;241;43m.\u001b[39;49m\u001b[43mdownload\u001b[49m\u001b[43m(\u001b[49m\u001b[43mticker\u001b[49m\u001b[43m,\u001b[49m\u001b[43m \u001b[49m\u001b[43mstart\u001b[49m\u001b[38;5;241;43m=\u001b[39;49m\u001b[43mstart_date\u001b[49m\u001b[43m,\u001b[49m\u001b[43m \u001b[49m\u001b[43mend\u001b[49m\u001b[38;5;241;43m=\u001b[39;49m\u001b[43mend_date\u001b[49m\u001b[43m)\u001b[49m\n",
      "File \u001b[0;32m/opt/homebrew/anaconda3/envs/dev/lib/python3.9/site-packages/yfinance/multi.py:170\u001b[0m, in \u001b[0;36mdownload\u001b[0;34m(tickers, start, end, actions, threads, ignore_tz, group_by, auto_adjust, back_adjust, repair, keepna, progress, period, show_errors, interval, prepost, proxy, rounding, timeout)\u001b[0m\n\u001b[1;32m    168\u001b[0m \u001b[38;5;28;01mexcept\u001b[39;00m \u001b[38;5;167;01mException\u001b[39;00m:\n\u001b[1;32m    169\u001b[0m     _realign_dfs()\n\u001b[0;32m--> 170\u001b[0m     data \u001b[38;5;241m=\u001b[39m \u001b[43m_pd\u001b[49m\u001b[38;5;241;43m.\u001b[39;49m\u001b[43mconcat\u001b[49m\u001b[43m(\u001b[49m\u001b[43mshared\u001b[49m\u001b[38;5;241;43m.\u001b[39;49m\u001b[43m_DFS\u001b[49m\u001b[38;5;241;43m.\u001b[39;49m\u001b[43mvalues\u001b[49m\u001b[43m(\u001b[49m\u001b[43m)\u001b[49m\u001b[43m,\u001b[49m\u001b[43m \u001b[49m\u001b[43maxis\u001b[49m\u001b[38;5;241;43m=\u001b[39;49m\u001b[38;5;241;43m1\u001b[39;49m\u001b[43m,\u001b[49m\u001b[43m \u001b[49m\u001b[43msort\u001b[49m\u001b[38;5;241;43m=\u001b[39;49m\u001b[38;5;28;43;01mTrue\u001b[39;49;00m\u001b[43m,\u001b[49m\n\u001b[1;32m    171\u001b[0m \u001b[43m                      \u001b[49m\u001b[43mkeys\u001b[49m\u001b[38;5;241;43m=\u001b[39;49m\u001b[43mshared\u001b[49m\u001b[38;5;241;43m.\u001b[39;49m\u001b[43m_DFS\u001b[49m\u001b[38;5;241;43m.\u001b[39;49m\u001b[43mkeys\u001b[49m\u001b[43m(\u001b[49m\u001b[43m)\u001b[49m\u001b[43m)\u001b[49m\n\u001b[1;32m    173\u001b[0m \u001b[38;5;66;03m# switch names back to isins if applicable\u001b[39;00m\n\u001b[1;32m    174\u001b[0m data\u001b[38;5;241m.\u001b[39mrename(columns\u001b[38;5;241m=\u001b[39mshared\u001b[38;5;241m.\u001b[39m_ISINS, inplace\u001b[38;5;241m=\u001b[39m\u001b[38;5;28;01mTrue\u001b[39;00m)\n",
      "File \u001b[0;32m/opt/homebrew/anaconda3/envs/dev/lib/python3.9/site-packages/pandas/util/_decorators.py:331\u001b[0m, in \u001b[0;36mdeprecate_nonkeyword_arguments.<locals>.decorate.<locals>.wrapper\u001b[0;34m(*args, **kwargs)\u001b[0m\n\u001b[1;32m    325\u001b[0m \u001b[38;5;28;01mif\u001b[39;00m \u001b[38;5;28mlen\u001b[39m(args) \u001b[38;5;241m>\u001b[39m num_allow_args:\n\u001b[1;32m    326\u001b[0m     warnings\u001b[38;5;241m.\u001b[39mwarn(\n\u001b[1;32m    327\u001b[0m         msg\u001b[38;5;241m.\u001b[39mformat(arguments\u001b[38;5;241m=\u001b[39m_format_argument_list(allow_args)),\n\u001b[1;32m    328\u001b[0m         \u001b[38;5;167;01mFutureWarning\u001b[39;00m,\n\u001b[1;32m    329\u001b[0m         stacklevel\u001b[38;5;241m=\u001b[39mfind_stack_level(),\n\u001b[1;32m    330\u001b[0m     )\n\u001b[0;32m--> 331\u001b[0m \u001b[38;5;28;01mreturn\u001b[39;00m \u001b[43mfunc\u001b[49m\u001b[43m(\u001b[49m\u001b[38;5;241;43m*\u001b[39;49m\u001b[43margs\u001b[49m\u001b[43m,\u001b[49m\u001b[43m \u001b[49m\u001b[38;5;241;43m*\u001b[39;49m\u001b[38;5;241;43m*\u001b[39;49m\u001b[43mkwargs\u001b[49m\u001b[43m)\u001b[49m\n",
      "File \u001b[0;32m/opt/homebrew/anaconda3/envs/dev/lib/python3.9/site-packages/pandas/core/reshape/concat.py:368\u001b[0m, in \u001b[0;36mconcat\u001b[0;34m(objs, axis, join, ignore_index, keys, levels, names, verify_integrity, sort, copy)\u001b[0m\n\u001b[1;32m    146\u001b[0m \u001b[38;5;129m@deprecate_nonkeyword_arguments\u001b[39m(version\u001b[38;5;241m=\u001b[39m\u001b[38;5;28;01mNone\u001b[39;00m, allowed_args\u001b[38;5;241m=\u001b[39m[\u001b[38;5;124m\"\u001b[39m\u001b[38;5;124mobjs\u001b[39m\u001b[38;5;124m\"\u001b[39m])\n\u001b[1;32m    147\u001b[0m \u001b[38;5;28;01mdef\u001b[39;00m \u001b[38;5;21mconcat\u001b[39m(\n\u001b[1;32m    148\u001b[0m     objs: Iterable[NDFrame] \u001b[38;5;241m|\u001b[39m Mapping[HashableT, NDFrame],\n\u001b[0;32m   (...)\u001b[0m\n\u001b[1;32m    157\u001b[0m     copy: \u001b[38;5;28mbool\u001b[39m \u001b[38;5;241m=\u001b[39m \u001b[38;5;28;01mTrue\u001b[39;00m,\n\u001b[1;32m    158\u001b[0m ) \u001b[38;5;241m-\u001b[39m\u001b[38;5;241m>\u001b[39m DataFrame \u001b[38;5;241m|\u001b[39m Series:\n\u001b[1;32m    159\u001b[0m \u001b[38;5;250m    \u001b[39m\u001b[38;5;124;03m\"\"\"\u001b[39;00m\n\u001b[1;32m    160\u001b[0m \u001b[38;5;124;03m    Concatenate pandas objects along a particular axis.\u001b[39;00m\n\u001b[1;32m    161\u001b[0m \n\u001b[0;32m   (...)\u001b[0m\n\u001b[1;32m    366\u001b[0m \u001b[38;5;124;03m    1   3   4\u001b[39;00m\n\u001b[1;32m    367\u001b[0m \u001b[38;5;124;03m    \"\"\"\u001b[39;00m\n\u001b[0;32m--> 368\u001b[0m     op \u001b[38;5;241m=\u001b[39m \u001b[43m_Concatenator\u001b[49m\u001b[43m(\u001b[49m\n\u001b[1;32m    369\u001b[0m \u001b[43m        \u001b[49m\u001b[43mobjs\u001b[49m\u001b[43m,\u001b[49m\n\u001b[1;32m    370\u001b[0m \u001b[43m        \u001b[49m\u001b[43maxis\u001b[49m\u001b[38;5;241;43m=\u001b[39;49m\u001b[43maxis\u001b[49m\u001b[43m,\u001b[49m\n\u001b[1;32m    371\u001b[0m \u001b[43m        \u001b[49m\u001b[43mignore_index\u001b[49m\u001b[38;5;241;43m=\u001b[39;49m\u001b[43mignore_index\u001b[49m\u001b[43m,\u001b[49m\n\u001b[1;32m    372\u001b[0m \u001b[43m        \u001b[49m\u001b[43mjoin\u001b[49m\u001b[38;5;241;43m=\u001b[39;49m\u001b[43mjoin\u001b[49m\u001b[43m,\u001b[49m\n\u001b[1;32m    373\u001b[0m \u001b[43m        \u001b[49m\u001b[43mkeys\u001b[49m\u001b[38;5;241;43m=\u001b[39;49m\u001b[43mkeys\u001b[49m\u001b[43m,\u001b[49m\n\u001b[1;32m    374\u001b[0m \u001b[43m        \u001b[49m\u001b[43mlevels\u001b[49m\u001b[38;5;241;43m=\u001b[39;49m\u001b[43mlevels\u001b[49m\u001b[43m,\u001b[49m\n\u001b[1;32m    375\u001b[0m \u001b[43m        \u001b[49m\u001b[43mnames\u001b[49m\u001b[38;5;241;43m=\u001b[39;49m\u001b[43mnames\u001b[49m\u001b[43m,\u001b[49m\n\u001b[1;32m    376\u001b[0m \u001b[43m        \u001b[49m\u001b[43mverify_integrity\u001b[49m\u001b[38;5;241;43m=\u001b[39;49m\u001b[43mverify_integrity\u001b[49m\u001b[43m,\u001b[49m\n\u001b[1;32m    377\u001b[0m \u001b[43m        \u001b[49m\u001b[43mcopy\u001b[49m\u001b[38;5;241;43m=\u001b[39;49m\u001b[43mcopy\u001b[49m\u001b[43m,\u001b[49m\n\u001b[1;32m    378\u001b[0m \u001b[43m        \u001b[49m\u001b[43msort\u001b[49m\u001b[38;5;241;43m=\u001b[39;49m\u001b[43msort\u001b[49m\u001b[43m,\u001b[49m\n\u001b[1;32m    379\u001b[0m \u001b[43m    \u001b[49m\u001b[43m)\u001b[49m\n\u001b[1;32m    381\u001b[0m     \u001b[38;5;28;01mreturn\u001b[39;00m op\u001b[38;5;241m.\u001b[39mget_result()\n",
      "File \u001b[0;32m/opt/homebrew/anaconda3/envs/dev/lib/python3.9/site-packages/pandas/core/reshape/concat.py:425\u001b[0m, in \u001b[0;36m_Concatenator.__init__\u001b[0;34m(self, objs, axis, join, keys, levels, names, ignore_index, verify_integrity, copy, sort)\u001b[0m\n\u001b[1;32m    422\u001b[0m     objs \u001b[38;5;241m=\u001b[39m \u001b[38;5;28mlist\u001b[39m(objs)\n\u001b[1;32m    424\u001b[0m \u001b[38;5;28;01mif\u001b[39;00m \u001b[38;5;28mlen\u001b[39m(objs) \u001b[38;5;241m==\u001b[39m \u001b[38;5;241m0\u001b[39m:\n\u001b[0;32m--> 425\u001b[0m     \u001b[38;5;28;01mraise\u001b[39;00m \u001b[38;5;167;01mValueError\u001b[39;00m(\u001b[38;5;124m\"\u001b[39m\u001b[38;5;124mNo objects to concatenate\u001b[39m\u001b[38;5;124m\"\u001b[39m)\n\u001b[1;32m    427\u001b[0m \u001b[38;5;28;01mif\u001b[39;00m keys \u001b[38;5;129;01mis\u001b[39;00m \u001b[38;5;28;01mNone\u001b[39;00m:\n\u001b[1;32m    428\u001b[0m     objs \u001b[38;5;241m=\u001b[39m \u001b[38;5;28mlist\u001b[39m(com\u001b[38;5;241m.\u001b[39mnot_none(\u001b[38;5;241m*\u001b[39mobjs))\n",
      "\u001b[0;31mValueError\u001b[0m: No objects to concatenate"
     ]
    }
   ],
   "source": [
    "# Import user inputs\n",
    "%store -r ticker\n",
    "%store -r start_date\n",
    "%store -r end_date\n",
    "%store -r short_window\n",
    "%store -r long_window\n",
    "\n",
    "data = yf.download(ticker, start=start_date, end=end_date)"
   ]
  },
  {
   "cell_type": "markdown",
   "id": "b183a32e-2910-494f-a89c-ee1f166e492e",
   "metadata": {},
   "source": [
    "# Step 1: Define the strategy"
   ]
  },
  {
   "cell_type": "code",
   "execution_count": null,
   "id": "fdf61559-a5d9-45b9-b397-a699495b4850",
   "metadata": {},
   "outputs": [],
   "source": [
    "# Define SMA\n",
    "\n",
    "def SMA(data, window):\n",
    "    return data.rolling(window=window).mean()\n",
    "\n",
    "def SMA_crossover_strategy(data, short_window, long_window):\n",
    "    signals = pd.DataFrame(index=data.index)\n",
    "    signals['price'] = data['Close']\n",
    "    signals['short_SMA'] = SMA(data['Close'], short_window)\n",
    "    signals['long_SMA'] = SMA(data['Close'], long_window)\n",
    "    signals['signal'] = 0.0\n",
    "\n",
    "    signals['signal'][short_window:] = np.where(signals['short_SMA'][short_window:] > signals['long_SMA'][short_window:], 1.0, 0.0)\n",
    "\n",
    "    signals['positions'] = signals['signal'].diff()\n",
    "\n",
    "    return signals"
   ]
  },
  {
   "cell_type": "markdown",
   "id": "002dec55-2887-4da7-84fd-96139df39687",
   "metadata": {},
   "source": [
    "# Step 2: Create Strategy Dataframe"
   ]
  },
  {
   "cell_type": "code",
   "execution_count": null,
   "id": "eb46033e-9bd3-434a-ad29-458de1c7bb59",
   "metadata": {},
   "outputs": [],
   "source": [
    "# Create dataframe of strategy\n",
    "signals = SMA_crossover_strategy(data, short_window, long_window)\n",
    "display(signals.head(150))"
   ]
  },
  {
   "cell_type": "code",
   "execution_count": null,
   "id": "81f9d573-bbc9-44fd-81ba-955b48b348d0",
   "metadata": {},
   "outputs": [],
   "source": [
    "# Filter the DataFrame to show only the rows with buy or sell signals\n",
    "signal_data = signals.loc[signals['positions'].abs() == 1]\n",
    "\n",
    "# Display the resulting DataFrame\n",
    "display(signal_data)"
   ]
  },
  {
   "cell_type": "markdown",
   "id": "7da9dc9b-a24c-41ab-9485-376caf2ab396",
   "metadata": {},
   "source": [
    "# Step 3: Plot SMA Crossover for Selected Ticker"
   ]
  },
  {
   "cell_type": "code",
   "execution_count": null,
   "id": "ce078e63-b471-4486-a632-cf540215e4f0",
   "metadata": {},
   "outputs": [],
   "source": [
    "# Define the stock price trace\n",
    "price = go.Scatter(\n",
    "    x=data.index,\n",
    "    y=data['Close'],\n",
    "    name='Closing Price (USD)',\n",
    ")\n",
    "\n",
    "# Define the short SMA trace\n",
    "short_sma = go.Scatter(\n",
    "    x=signals.index,\n",
    "    y=signals['short_SMA'],\n",
    "    name='Short SMA',\n",
    ")\n",
    "\n",
    "# Define the long SMA trace\n",
    "long_sma = go.Scatter(\n",
    "    x=signals.index,\n",
    "    y=signals['long_SMA'],\n",
    "    name='Long SMA',\n",
    ")\n",
    "\n",
    "# Define the buy signals trace\n",
    "buy_signals = go.Scatter(\n",
    "    x=signals.loc[signals.positions == 1.0].index,\n",
    "    y=signals.short_SMA[signals.positions == 1.0],\n",
    "    name='Buy',\n",
    "    mode='markers',\n",
    "    marker=dict(size=10, symbol='triangle-up', color='green'),\n",
    ")\n",
    "\n",
    "# Define the sell signals trace\n",
    "sell_signals = go.Scatter(\n",
    "    x=signals.loc[signals.positions == -1.0].index,\n",
    "    y=signals.short_SMA[signals.positions == -1.0],\n",
    "    name='Sell',\n",
    "    mode='markers',\n",
    "    marker=dict(size=10, symbol='triangle-down', color='red'),\n",
    ")\n",
    "\n",
    "# Define the layout\n",
    "layout = go.Layout(\n",
    "    title=dict(text=f'{ticker} Stock Price with SMA Crossover Signals'),\n",
    "    xaxis=dict(title='Date'),\n",
    "    yaxis=dict(title='Closing Price (USD)'),\n",
    "    template='plotly_dark'\n",
    ")\n",
    "\n",
    "# Create the figure\n",
    "fig = go.Figure(data=[price, short_sma, long_sma, buy_signals, sell_signals], layout=layout)\n",
    "\n",
    "# Display the figure\n",
    "fig.show()"
   ]
  },
  {
   "cell_type": "markdown",
   "id": "1c5721a2-cbb5-4952-9766-4c867220897b",
   "metadata": {},
   "source": [
    "# Step 4: Measure Cumulative Returns\n"
   ]
  },
  {
   "cell_type": "code",
   "execution_count": null,
   "id": "f9080506-b979-41e3-9eb5-95cc8a09a83e",
   "metadata": {},
   "outputs": [],
   "source": [
    "# Calculate daily returns\n",
    "signals['daily_returns'] = signals['price'].pct_change()\n",
    "\n",
    "# Calculate daily returns when following the crossover strategy\n",
    "signals['strategy_returns'] = signals['daily_returns'] * signals['signal'].shift(1)\n",
    "\n",
    "# Filter out the periods when not holding the stock (strategy_returns == 0)\n",
    "holding_returns = signals[signals['strategy_returns'] != 0]['strategy_returns']\n",
    "cumulative_strategy_returns = (1 + holding_returns).cumprod()\n",
    "\n",
    "display(cumulative_strategy_returns)"
   ]
  },
  {
   "cell_type": "code",
   "execution_count": null,
   "id": "88875d15-f877-4649-8835-09e9c8099415",
   "metadata": {},
   "outputs": [],
   "source": [
    "# Calculate cumulative returns for buy-and-hold strategy over time\n",
    "buy_and_hold_cumulative_returns = (1 + signals['daily_returns']).cumprod()\n",
    "\n",
    "# Calculate the total return \n",
    "def calculate_buy_and_hold_returns(df):\n",
    "    return df['Close'].iloc[-1] / df['Close'].iloc[0] - 1\n",
    "\n",
    "display(buy_and_hold_cumulative_returns)"
   ]
  },
  {
   "cell_type": "markdown",
   "id": "abbe0025-c54f-4eda-a03e-edeb9c2d36ce",
   "metadata": {},
   "source": [
    "# Step 5: Plot Cumulative Returns\n",
    "### SMA Crossover"
   ]
  },
  {
   "cell_type": "code",
   "execution_count": null,
   "id": "9edf6457-c59e-4da1-8382-3428b1a93f78",
   "metadata": {},
   "outputs": [],
   "source": [
    "# Create a trace for the cumulative returns\n",
    "cumulative_returns_trace = go.Scatter(\n",
    "    x=cumulative_strategy_returns.index,\n",
    "    y=cumulative_strategy_returns.values,\n",
    "    mode='lines',\n",
    "    name='Cumulative Returns'\n",
    ")\n",
    "\n",
    "# Create a trace for the holding periods\n",
    "holding_periods_trace = go.Scatter(\n",
    "    x=holding_returns.index,\n",
    "    y=[1] * len(holding_returns),\n",
    "    mode='markers',\n",
    "    marker=dict(size=3, color='red'),\n",
    "    name='Holding Periods'\n",
    ")\n",
    "\n",
    "# Create a layout for the chart\n",
    "layout = go.Layout(\n",
    "    title=dict(text=f'{ticker} SMA Crossover Strategy Cumulative Returns'),\n",
    "    xaxis=dict(title='Date'),\n",
    "    yaxis=dict(title='Cumulative Returns'),\n",
    "    template='plotly_dark'\n",
    ")\n",
    "\n",
    "# Create the figure\n",
    "fig = go.Figure(data=[cumulative_returns_trace, holding_periods_trace], layout=layout)\n",
    "\n",
    "# Display the figure\n",
    "fig.show()"
   ]
  },
  {
   "cell_type": "markdown",
   "id": "cf9ba284-7fd5-4bbc-8b57-66b9a0d202d9",
   "metadata": {},
   "source": [
    "# Buy and Hold"
   ]
  },
  {
   "cell_type": "code",
   "execution_count": null,
   "id": "075499c7-1d3e-4126-be7e-f815b187dd0b",
   "metadata": {},
   "outputs": [],
   "source": [
    "# Define the buy-and-hold strategy trace\n",
    "buy_and_hold_cumulative_returns_trace = go.Scatter(\n",
    "    x=buy_and_hold_cumulative_returns.index,\n",
    "    y=buy_and_hold_cumulative_returns,\n",
    "    mode='lines',\n",
    "    name='Buy and Hold Strategy'\n",
    ")\n",
    "\n",
    "# Define the layout\n",
    "layout = go.Layout(\n",
    "    title=dict(text=f'{ticker} Buy and Hold Strategy Cumulative Returns'),\n",
    "    xaxis=dict(title='Date'),\n",
    "    yaxis=dict(title='Cumulative Returns'),\n",
    "    template='plotly_dark'\n",
    ")\n",
    "\n",
    "# Create the figure\n",
    "fig = go.Figure(data=[buy_and_hold_cumulative_returns_trace], layout=layout)\n",
    "\n",
    "# Display the figure\n",
    "fig.show()"
   ]
  },
  {
   "cell_type": "markdown",
   "id": "bc10cd7d-a3fb-4c68-9afe-c3dfa194453b",
   "metadata": {},
   "source": [
    "# Step 6: Compare Returns\n",
    "### Plot Comparison"
   ]
  },
  {
   "cell_type": "code",
   "execution_count": null,
   "id": "75d5ef1c-8995-4066-b4d0-a2e15b6e40d4",
   "metadata": {},
   "outputs": [],
   "source": [
    "# Define the SMA Crossover strategy trace\n",
    "sma_crossover_strategy = go.Scatter(\n",
    "    x=holding_returns.index,\n",
    "    y=cumulative_strategy_returns,\n",
    "    mode='lines',\n",
    "    name='SMA Crossover Strategy'\n",
    ")\n",
    "\n",
    "# Define the buy-and-hold strategy trace\n",
    "buy_and_hold_strategy = go.Scatter(\n",
    "    x=buy_and_hold_cumulative_returns.index,\n",
    "    y=buy_and_hold_cumulative_returns,\n",
    "    mode='lines',\n",
    "    name='Buy and Hold Strategy'\n",
    ")\n",
    "\n",
    "# Define holding periods trace\n",
    "holding_periods_trace = go.Scatter(\n",
    "    x=holding_returns.index,\n",
    "    y=[1] * len(holding_returns),\n",
    "    mode='markers',\n",
    "    marker=dict(size=3, color='red'),\n",
    "    name='Holding Periods (Crossover)'\n",
    ")\n",
    "\n",
    "# Define the layout\n",
    "layout = go.Layout(\n",
    "    title=dict(text=f'Comparing SMA Crossover Strategy with Buy and Hold Strategy for {ticker}'),\n",
    "    xaxis=dict(title='Date'),\n",
    "    yaxis=dict(title='Cumulative Returns'),\n",
    "    template='plotly_dark'\n",
    ")\n",
    "\n",
    "# Create the figure\n",
    "fig = go.Figure(data=[sma_crossover_strategy, buy_and_hold_strategy, holding_periods_trace], layout=layout)\n",
    "\n",
    "# Display the figure\n",
    "fig.show()"
   ]
  },
  {
   "cell_type": "markdown",
   "id": "c39df0f9-3e25-4fc8-b193-1d6bbb0b5d6a",
   "metadata": {},
   "source": [
    "# Step 7: Compare Risk\n",
    "### Crossover Strategy Volatility"
   ]
  },
  {
   "cell_type": "code",
   "execution_count": null,
   "id": "be7b554c-2aab-4e33-ae7e-02c4a864dd0f",
   "metadata": {},
   "outputs": [],
   "source": [
    "# Calculate the annualized volatility\n",
    "annualized_volatility_SMA = holding_returns.std() * np.sqrt(252)\n",
    "\n",
    "# Print the standard deviation\n",
    "print(\"Standard Deviation:\", holding_returns.std())\n",
    "\n",
    "# Print the annualized volatility\n",
    "print(\"Annualized Volatility:\", annualized_volatility_SMA)"
   ]
  },
  {
   "cell_type": "markdown",
   "id": "b75b1665-69fe-4e73-918d-d55c783abf02",
   "metadata": {},
   "source": [
    "### Buy and Hold Strategy Volatility"
   ]
  },
  {
   "cell_type": "code",
   "execution_count": null,
   "id": "0409b00a-4f48-42dc-b3fa-f2efa824d2c9",
   "metadata": {},
   "outputs": [],
   "source": [
    "# Calculate the annualized volatility\n",
    "annualized_volatility = signals['daily_returns'].std() * np.sqrt(252)\n",
    "\n",
    "# Print the standard deviation\n",
    "print(\"Standard Deviation:\", signals['daily_returns'].std())\n",
    "\n",
    "# Print the annualized volatility\n",
    "print(\"Annualized Volatility:\", annualized_volatility)"
   ]
  },
  {
   "cell_type": "markdown",
   "id": "7e451a17-2103-499e-8ace-c3662c9f608f",
   "metadata": {},
   "source": [
    "### Sharpe Ratio"
   ]
  },
  {
   "cell_type": "code",
   "execution_count": null,
   "id": "a4e9db84-21d3-42b4-908f-38733252c14a",
   "metadata": {},
   "outputs": [],
   "source": [
    "# Calculate the Sharpe Ratio\n",
    "\n",
    "# Calculate daily returns when holding the stock following the crossover strategy\n",
    "signals['strategy_returns'] = signals['daily_returns'] * signals['signal'].shift(1)\n",
    "\n",
    "# Calculate the average daily returns\n",
    "average_daily_returns = signals['daily_returns'].mean()\n",
    "average_strategy_returns = signals['strategy_returns'].mean()\n",
    "\n",
    "# Calculate the standard deviation of daily returns (volatility)\n",
    "volatility_daily_returns = signals['daily_returns'].std()\n",
    "volatility_strategy_returns = signals['strategy_returns'].std()\n",
    "\n",
    "# Set the risk-free rate (e.g., the 3-month Treasury bill rate)\n",
    "risk_free_rate = 0.02 / 252  # Assume an annual risk-free rate of 2% and divide by 252 trading days\n",
    "\n",
    "# Calculate the Sharpe ratios\n",
    "sharpe_ratio_buy_and_hold = (average_daily_returns - risk_free_rate) / volatility_daily_returns\n",
    "sharpe_ratio_strategy = (average_strategy_returns - risk_free_rate) / volatility_strategy_returns\n",
    "\n",
    "# Print the Sharpe ratios\n",
    "print(\"Sharpe Ratio (Buy and Hold Strategy):\", sharpe_ratio_buy_and_hold)\n",
    "print(\"Sharpe Ratio (SMA Crossover Strategy):\", sharpe_ratio_strategy)"
   ]
  },
  {
   "cell_type": "markdown",
   "id": "03b03541-bcaf-43f3-8bf6-08695d613c25",
   "metadata": {},
   "source": [
    "### Sortino Ratio"
   ]
  },
  {
   "cell_type": "code",
   "execution_count": null,
   "id": "a90f47e4-9294-48d3-a8a3-3b2ebafc6930",
   "metadata": {},
   "outputs": [],
   "source": [
    "# Calculate the Sortino Ratio\n",
    "\n",
    "# Calculate the downside deviations (considering only negative returns)\n",
    "downside_deviation_daily_returns = signals[signals['daily_returns'] < 0]['daily_returns'].std()\n",
    "downside_deviation_strategy_returns = signals[signals['strategy_returns'] < 0]['strategy_returns'].std()\n",
    "\n",
    "# Set the risk-free rate (e.g., the 3-month Treasury bill rate)\n",
    "risk_free_rate = 0.02 / 252  # Assume an annual risk-free rate of 2% and divide by 252 trading days\n",
    "\n",
    "# Calculate the Sortino ratios\n",
    "sortino_ratio_buy_and_hold = (average_daily_returns - risk_free_rate) / downside_deviation_daily_returns\n",
    "sortino_ratio_strategy = (average_strategy_returns - risk_free_rate) / downside_deviation_strategy_returns\n",
    "\n",
    "# Print the Sortino ratios\n",
    "print(\"Sortino Ratio (Buy and Hold Strategy):\", sortino_ratio_buy_and_hold)\n",
    "print(\"Sortino Ratio (SMA Crossover Strategy):\", sortino_ratio_strategy)"
   ]
  },
  {
   "cell_type": "markdown",
   "id": "7f2e351b-d5c8-4565-9f30-4b6cdf4a65c2",
   "metadata": {},
   "source": [
    "# Step 8: Create Plot for Comparison of Volatilities/Ratios"
   ]
  },
  {
   "cell_type": "code",
   "execution_count": null,
   "id": "f33ac835-0c28-441f-a19e-ada827404036",
   "metadata": {},
   "outputs": [],
   "source": [
    "# Create a bar chart of annualized volatility, standard deviation, Sharpe ratio, and Sortino ratio\n",
    "fig = go.Figure()\n",
    "fig.add_trace(go.Bar(x=[\"SMA Crossover\", \"Buy and Hold\"],\n",
    "                     y=[annualized_volatility_SMA, annualized_volatility],\n",
    "                     name='Annualized Volatility'))\n",
    "fig.add_trace(go.Bar(x=[\"SMA Crossover\", \"Buy and Hold\"],\n",
    "                     y=[holding_returns.std(), signals['daily_returns'].std()],\n",
    "                     name='Standard Deviation'))\n",
    "fig.add_trace(go.Bar(x=[\"SMA Crossover\", \"Buy and Hold\"],\n",
    "                     y=[sharpe_ratio_strategy, sharpe_ratio_buy_and_hold],\n",
    "                     name='Sharpe Ratio'))\n",
    "fig.add_trace(go.Bar(x=[\"SMA Crossover\", \"Buy and Hold\"],\n",
    "                     y=[sortino_ratio_strategy, sortino_ratio_buy_and_hold],\n",
    "                     name='Sortino Ratio'))\n",
    "\n",
    "fig.update_layout(title=f'{ticker} Strategy Comparison', barmode='group',\n",
    "                  yaxis=dict(title='Volatility'), template='plotly_dark')\n",
    "\n",
    "fig.show()"
   ]
  },
  {
   "cell_type": "code",
   "execution_count": null,
   "id": "c3d9bb06-eef4-42ad-bc22-9a05d2244c70",
   "metadata": {},
   "outputs": [],
   "source": []
  },
  {
   "cell_type": "code",
   "execution_count": null,
   "id": "01042785-9a9d-43ab-a11d-e448f8aeba67",
   "metadata": {},
   "outputs": [],
   "source": []
  }
 ],
 "metadata": {
  "kernelspec": {
   "display_name": "Python 3 (ipykernel)",
   "language": "python",
   "name": "python3"
  },
  "language_info": {
   "codemirror_mode": {
    "name": "ipython",
    "version": 3
   },
   "file_extension": ".py",
   "mimetype": "text/x-python",
   "name": "python",
   "nbconvert_exporter": "python",
   "pygments_lexer": "ipython3",
   "version": "3.9.16"
  }
 },
 "nbformat": 4,
 "nbformat_minor": 5
}
